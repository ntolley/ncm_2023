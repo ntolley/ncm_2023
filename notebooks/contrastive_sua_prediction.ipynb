{
 "cells": [
  {
   "cell_type": "code",
   "execution_count": 1,
   "metadata": {},
   "outputs": [
    {
     "name": "stdout",
     "output_type": "stream",
     "text": [
      "\n",
      "WARNING: Xgboost package is not installed. You will be unable to use the xgboost decoder\n",
      "\n",
      "WARNING: Keras package is not installed. You will be unable to use all neural net decoders\n"
     ]
    }
   ],
   "source": [
    "import sys\n",
    "sys.path.append('../code')\n",
    "\n",
    "import numpy as np\n",
    "import matplotlib.pyplot as plt\n",
    "import pandas as pd\n",
    "import seaborn as sns\n",
    "import torch\n",
    "from sklearn.model_selection import ShuffleSplit\n",
    "import pickle\n",
    "from scipy.signal import savgol_filter\n",
    "from sklearn.model_selection import StratifiedShuffleSplit\n",
    "from functools import partial\n",
    "\n",
    "\n",
    "# CUDA for PyTorch\n",
    "use_cuda = torch.cuda.is_available()\n",
    "device = torch.device(\"cuda:0\")\n",
    "#device = torch.device('cpu')\n",
    "\n",
    "torch.backends.cudnn.benchmark = True\n",
    "\n",
    "import contrastive_functions"
   ]
  },
  {
   "cell_type": "code",
   "execution_count": 2,
   "metadata": {},
   "outputs": [],
   "source": [
    "# Prepare dataframes for movement decoding\n",
    "def get_marker_decode_dataframes(noise_fold=0):\n",
    "    cam_idx = 1\n",
    "    # kinematic_df, neural_df, metadata = mocap_functions.load_mocap_df('../data/SPK20220308/task_data/', kinematic_suffix=f'_cam{cam_idx}')\n",
    "    kinematic_df, neural_df, metadata = contrastive_functions.load_mocap_df('../data/SPK20220308/task_data/', kinematic_suffix=f'_cam{cam_idx}')\n",
    "\n",
    "    num_trials = len(kinematic_df['trial'].unique())\n",
    "\n",
    "    pos_filter = [1,2,3,4]\n",
    "    layout_filter = [1,2,3,4]\n",
    "    pos_remove_filter = [f'position_{pos_idx}' for pos_idx in []]\n",
    "    layout_remove_filter = [f'layout_{layout_idx}' for layout_idx in []]\n",
    "\n",
    "    # pos_filter = [1, 4]\n",
    "    # layout_filter = [1,2]\n",
    "    # pos_remove_filter = [f'position_{pos_idx}' for pos_idx in [2,3]]\n",
    "    # layout_remove_filter = [f'layout_{layout_idx}' for layout_idx in [3,4]]\n",
    "\n",
    "\n",
    "    neural_df = neural_df[np.in1d(neural_df['position'], pos_filter)].reset_index(drop=True)\n",
    "    neural_df = neural_df[np.in1d(neural_df['layout'], layout_filter)].reset_index(drop=True)\n",
    "    neural_df = neural_df[~np.in1d(neural_df['unit'], pos_remove_filter)].reset_index(drop=True)\n",
    "    neural_df = neural_df[~np.in1d(neural_df['unit'], layout_remove_filter)].reset_index(drop=True)\n",
    "\n",
    "    kinematic_df = kinematic_df[np.in1d(kinematic_df['position'], pos_filter)].reset_index(drop=True)\n",
    "    kinematic_df = kinematic_df[np.in1d(kinematic_df['layout'], layout_filter)].reset_index(drop=True)\n",
    "    kinematic_df = kinematic_df[~np.in1d(kinematic_df['name'], pos_remove_filter)].reset_index(drop=True)\n",
    "    kinematic_df = kinematic_df[~np.in1d(kinematic_df['name'], layout_remove_filter)].reset_index(drop=True)\n",
    "\n",
    "    # Subselect specific marker\n",
    "    # marker_list = ['ulnarDistal', 'carpal', 'thumbProx', 'ringProx','pinkyProx'] # cam4\n",
    "    # marker_list = ['ringProx', 'pinkyProx', 'middleProx'] # cam4\n",
    "    marker_list = ['ringProx'] # cam4\n",
    "    # marker_list = ['indexProx', 'carpal', 'ringProx'] # cam1\n",
    "\n",
    "    mask_list = [kinematic_df['name'].str.contains(pat=pat) for pat in marker_list]\n",
    "    wrist_df = kinematic_df[np.logical_or.reduce(mask_list)]\n",
    "\n",
    "    # Remove trials with velocity outliers\n",
    "    velocity_outlier_thresh = 6\n",
    "    velocity_std = np.concatenate(wrist_df['posData'].map(np.diff).values).std()\n",
    "    velocity_outlier_mask = wrist_df['posData'].map(np.diff).apply(\n",
    "        lambda x: np.any(np.abs(x - np.mean(x)) > velocity_outlier_thresh * velocity_std))\n",
    "    velocity_outlier_trials = wrist_df[velocity_outlier_mask]['trial'].unique()\n",
    "\n",
    "    wrist_df = wrist_df[wrist_df['trial'].apply(lambda x: x not in velocity_outlier_trials)]\n",
    "    neural_df = neural_df[neural_df['trial'].apply(lambda x: x not in velocity_outlier_trials)]\n",
    "\n",
    "    # Remove trials with length outliers\n",
    "    length_outlier_thresh = 3\n",
    "    trial_lengths = wrist_df['posData'].map(len).values\n",
    "    length_outlier_mask = np.abs(trial_lengths - np.mean(trial_lengths)) > length_outlier_thresh * np.std(trial_lengths)\n",
    "    length_outlier_trials = wrist_df[length_outlier_mask]['trial'].unique()\n",
    "\n",
    "    wrist_df = wrist_df[wrist_df['trial'].apply(lambda x: x not in length_outlier_trials)]\n",
    "    neural_df = neural_df[neural_df['trial'].apply(lambda x: x not in length_outlier_trials)]\n",
    "\n",
    "    assert np.array_equal(neural_df['trial'].unique(), wrist_df['trial'].unique())\n",
    "\n",
    "    trial_ids = neural_df['trial'].unique()\n",
    "    num_trials_filtered = len(trial_ids)\n",
    "\n",
    "    # Give each layout/position combination a unique label\n",
    "    trial_type_dict = dict()\n",
    "    label_idx = 0\n",
    "    for layout_idx in range(1,5):\n",
    "        for position_idx in range(1,5):\n",
    "            trial_type_dict[(layout_idx, position_idx)] = label_idx\n",
    "            label_idx = label_idx + 1\n",
    "\n",
    "    # Populate list with labels to match each trials\n",
    "    trial_labels = list()\n",
    "    for trial_id in trial_ids:\n",
    "        layout_idx = neural_df[neural_df['trial'] == trial_id]['layout'].values[0]\n",
    "        position_idx = neural_df[neural_df['trial'] == trial_id]['position'].values[0]\n",
    "        trial_labels.append(trial_type_dict[(layout_idx, position_idx)])\n",
    "    trial_labels = np.array(trial_labels)\n",
    "\n",
    "    \n",
    "\n",
    "    #Generate cv_dict for regular train/test/validate split (no rolling window)\n",
    "    # cv_split = StratifiedShuffleSplit(n_splits=5, test_size=.25, random_state=3)\n",
    "    # val_split = StratifiedShuffleSplit(n_splits=1, test_size=.25, random_state=3)\n",
    "\n",
    "    cv_split = StratifiedShuffleSplit(n_splits=10, test_size=0.75, random_state=3)\n",
    "    val_split = StratifiedShuffleSplit(n_splits=1, test_size=0.5, random_state=3)\n",
    "\n",
    "    cv_dict = {}\n",
    "    for fold, (train_val_idx, test_idx) in enumerate(cv_split.split(trial_ids, trial_labels)):\n",
    "        val_trial_labels = trial_labels[train_val_idx]\n",
    "        for t_idx, v_idx in val_split.split(train_val_idx, val_trial_labels): #No looping, just used to split train/validation sets\n",
    "            cv_dict[fold] = {'train_idx':trial_ids[train_val_idx[t_idx]], \n",
    "                            'test_idx':trial_ids[test_idx], \n",
    "                            'validation_idx':trial_ids[train_val_idx[v_idx]]} \n",
    "\n",
    "    # neural_df, wrist_df = contrastive_functions.add_noise(neural_df, wrist_df, cv_dict, noise_fold, num_trials)\n",
    "\n",
    "    # Smooth everything after adding noise\n",
    "    smooth_func = partial(savgol_filter, window_length=31, polyorder=3)\n",
    "    neural_df['rates'] = neural_df['rates'].map(smooth_func)\n",
    "    wrist_df['posData'] = wrist_df['posData'].map(smooth_func)\n",
    "\n",
    "    nolayout_neural_mask = ~(neural_df['unit'].str.contains(pat='layout'))\n",
    "    noposition_neural_mask = ~(neural_df['unit'].str.contains(pat='position'))\n",
    "    notask_neural_df = neural_df[np.logical_and.reduce([nolayout_neural_mask, noposition_neural_mask])]\n",
    "    task_neural_df = neural_df.copy()\n",
    "\n",
    "\n",
    "    nolayout_wrist_mask = ~(wrist_df['name'].str.contains(pat='layout'))\n",
    "    noposition_wrist_mask = ~(wrist_df['name'].str.contains(pat='position'))\n",
    "    notask_wrist_df = wrist_df[np.logical_and.reduce([nolayout_wrist_mask, noposition_wrist_mask])]\n",
    "    task_wrist_df = wrist_df.copy()\n",
    "\n",
    "    data_dict = {'task_wrist_df': task_wrist_df, 'notask_wrist_df': notask_wrist_df,'task_neural_df': task_neural_df, 'notask_neural_df': notask_neural_df,\n",
    "                 'metadata': metadata, 'cv_dict': cv_dict, 'noise_fold': noise_fold}\n",
    "    return data_dict"
   ]
  },
  {
   "cell_type": "code",
   "execution_count": null,
   "metadata": {},
   "outputs": [],
   "source": []
  },
  {
   "cell_type": "code",
   "execution_count": 3,
   "metadata": {},
   "outputs": [],
   "source": [
    "noise_fold = 0\n",
    "data_dict = get_marker_decode_dataframes(noise_fold = noise_fold)\n",
    "task_wrist_df = data_dict['task_wrist_df']\n",
    "notask_wrist_df = data_dict['notask_wrist_df']\n",
    "task_neural_df = data_dict['task_neural_df']\n",
    "notask_neural_df = data_dict['notask_neural_df']\n",
    "metadata = data_dict['metadata']\n",
    "cv_dict = data_dict['cv_dict']\n",
    "\n",
    "neuron_list = notask_neural_df['unit'].unique()"
   ]
  },
  {
   "cell_type": "code",
   "execution_count": 4,
   "metadata": {},
   "outputs": [],
   "source": [
    "notask_time_neural_mask = notask_neural_df['unit'] != 'time'\n",
    "notask_neural_df = notask_neural_df[notask_time_neural_mask]\n",
    "\n",
    "notask_time_wrist_mask = notask_wrist_df['name'] != 'time'\n",
    "notask_wrist_df = notask_wrist_df[notask_time_wrist_mask]"
   ]
  },
  {
   "cell_type": "code",
   "execution_count": null,
   "metadata": {},
   "outputs": [],
   "source": []
  },
  {
   "cell_type": "code",
   "execution_count": 5,
   "metadata": {},
   "outputs": [],
   "source": [
    "neural_offset = 2 # try 50-150 ms offset\n",
    "window_size = 70\n",
    "label_col = 'layout'"
   ]
  },
  {
   "cell_type": "code",
   "execution_count": null,
   "metadata": {},
   "outputs": [],
   "source": []
  },
  {
   "cell_type": "code",
   "execution_count": null,
   "metadata": {},
   "outputs": [],
   "source": []
  },
  {
   "cell_type": "code",
   "execution_count": 6,
   "metadata": {},
   "outputs": [
    {
     "name": "stdout",
     "output_type": "stream",
     "text": [
      "rnn_task; repeat 0\n",
      "**..***.**\n",
      "Epoch: 10/1000 ... Train Loss: 7.8448  ... Validation Loss: 7.9250\n",
      "*****.****\n",
      "Epoch: 20/1000 ... Train Loss: 7.6814  ... Validation Loss: 7.8322\n",
      "******..**\n",
      "Epoch: 30/1000 ... Train Loss: 7.6284  ... Validation Loss: 7.7997\n",
      "***.....*.\n",
      "Epoch: 40/1000 ... Train Loss: 7.6028  ... Validation Loss: 7.7877\n",
      "..*...*...\n",
      "Epoch: 50/1000 ... Train Loss: 7.5867  ... Validation Loss: 7.7874\n",
      ".*..*.....\n",
      "Epoch: 60/1000 ... Train Loss: 7.5754  ... Validation Loss: 7.7837\n",
      ". Early Stop; Min Epoch: 55\n",
      "rnn_notask; repeat 0\n",
      "*.********\n",
      "Epoch: 10/1000 ... Train Loss: 1.1499  ... Validation Loss: 1.1269\n",
      "**********\n",
      "Epoch: 20/1000 ... Train Loss: 0.9771  ... Validation Loss: 1.0166\n",
      "***...****\n",
      "Epoch: 30/1000 ... Train Loss: 0.9308  ... Validation Loss: 0.9914\n",
      ".**.****..\n",
      "Epoch: 40/1000 ... Train Loss: 0.9103  ... Validation Loss: 0.9844\n",
      ".*..*...*.\n",
      "Epoch: 50/1000 ... Train Loss: 0.8975  ... Validation Loss: 0.9807\n",
      "*...*...*.\n",
      "Epoch: 60/1000 ... Train Loss: 0.8905  ... Validation Loss: 0.9801\n",
      "**....*.*.\n",
      "Epoch: 70/1000 ... Train Loss: 0.8735  ... Validation Loss: 0.9791\n",
      "..... Early Stop; Min Epoch: 69\n"
     ]
    }
   ],
   "source": [
    "# func_dict = {'wiener': contrastive_functions.run_wiener, 'rnn': contrastive_functions.run_rnn}\n",
    "func_dict = {'rnn': contrastive_functions.run_rnn}\n",
    "\n",
    "\n",
    "fpath = '../data/SPK20220308/neuron_num_results/'\n",
    "\n",
    "num_repeats = 1\n",
    "# num_neuron_list = np.arange(2,51,4)\n",
    "# num_neuron_list = [2,4,6,10,15,20]\n",
    "\n",
    "\n",
    "num_neuron_results_dict = {'num_repeats': num_repeats, 'moise_fold': noise_fold}\n",
    "for repeat_idx in range(num_repeats):\n",
    "\n",
    "    df_dict = {'task': {'df': notask_wrist_df, 'task_info': True, 'num_cat': 0, 'flip_outputs': False}, # num_cat = number of categorical features\n",
    "                'notask': {'df': notask_wrist_df, 'task_info': False, 'num_cat': 0, 'flip_outputs': False}}\n",
    "    \n",
    "\n",
    "    decode_results = dict()\n",
    "    for func_name, func in func_dict.items():\n",
    "        decode_results[func_name] = dict()\n",
    "        for df_type, pred_df in df_dict.items():\n",
    "            print(f'{func_name}_{df_type}; repeat {repeat_idx}')\n",
    "\n",
    "            model, res_dict = func(pred_df['df'], notask_neural_df, neural_offset, cv_dict, metadata, task_info=pred_df['task_info'],\n",
    "                                    window_size=window_size, num_cat=pred_df['num_cat'], label_col=label_col, flip_outputs=pred_df['flip_outputs'])\n",
    "\n",
    "            decode_results[func_name][df_type] = res_dict\n",
    "\n",
    "            # Save results on every loop in case early stop\n",
    "            num_neuron_results_dict[f'repeat_{repeat_idx}'] = decode_results\n",
    "\n",
    "\n",
    "\n"
   ]
  },
  {
   "cell_type": "markdown",
   "metadata": {},
   "source": []
  },
  {
   "cell_type": "code",
   "execution_count": 7,
   "metadata": {},
   "outputs": [
    {
     "data": {
      "text/plain": [
       "(-0.2, 0.9)"
      ]
     },
     "execution_count": 7,
     "metadata": {},
     "output_type": "execute_result"
    },
    {
     "data": {
      "image/png": "[encoded data removed]",
      "text/plain": [
       "<Figure size 504x504 with 1 Axes>"
      ]
     },
     "metadata": {
      "needs_background": "light"
     },
     "output_type": "display_data"
    }
   ],
   "source": [
    "decoder_type = 'rnn'\n",
    "cond1, cond2 = 'notask', 'task'\n",
    "\n",
    "nolayout_test_corr = decode_results[decoder_type][cond1]['test_corr']\n",
    "all_test_corr = decode_results[decoder_type][cond2]['test_corr']\n",
    "\n",
    "plt.figure(figsize=(7,7))\n",
    "plot_data = np.stack([nolayout_test_corr, all_test_corr])\n",
    "_ = plt.plot(plot_data, color='k', linewidth=2, alpha=0.8)\n",
    "plt.xticks([0, 1], labels=[cond1, cond2], fontsize=16)\n",
    "plt.ylabel('Correlation', fontsize=16)\n",
    "plt.violinplot(nolayout_test_corr, positions=[0], showmeans=False,showextrema=False)\n",
    "plt.violinplot(all_test_corr, positions=[1], showmeans=False,showextrema=False)\n",
    "# plt.title('All Marker Decoding', fontsize=16)\n",
    "plt.ylim([-0.2,0.9])\n",
    "# plt.savefig(f'movement_decoding_violin_{num_neurons}_neurons_layout.png')"
   ]
  },
  {
   "cell_type": "code",
   "execution_count": 8,
   "metadata": {},
   "outputs": [
    {
     "data": {
      "text/plain": [
       "Text(0.5, 0, 'Correlation difference (layout - no layout)')"
      ]
     },
     "execution_count": 8,
     "metadata": {},
     "output_type": "execute_result"
    },
    {
     "data": {
      "image/png": "[encoded data removed]",
      "text/plain": [
       "<Figure size 720x216 with 1 Axes>"
      ]
     },
     "metadata": {
      "needs_background": "light"
     },
     "output_type": "display_data"
    }
   ],
   "source": [
    "plt.figure(figsize=(10,3))\n",
    "bins=np.linspace(-0.1, 0.1, 30)\n",
    "plt.hist(all_test_corr - nolayout_test_corr, bins=bins, width=0.006)\n",
    "plt.axvline(x=0, color='k')\n",
    "plt.xlabel('Correlation difference (layout - no layout)')\n"
   ]
  },
  {
   "cell_type": "code",
   "execution_count": null,
   "metadata": {},
   "outputs": [],
   "source": []
  },
  {
   "cell_type": "code",
   "execution_count": null,
   "metadata": {},
   "outputs": [],
   "source": []
  }
 ],
 "metadata": {
  "kernelspec": {
   "display_name": "Python 3.9.12 ('base')",
   "language": "python",
   "name": "python3"
  },
  "language_info": {
   "codemirror_mode": {
    "name": "ipython",
    "version": 3
   },
   "file_extension": ".py",
   "mimetype": "text/x-python",
   "name": "python",
   "nbconvert_exporter": "python",
   "pygments_lexer": "ipython3",
   "version": "3.9.12"
  },
  "vscode": {
   "interpreter": {
    "hash": "0b48ab3240dc41ffa029ce879fa5e087e0a83cbe7a72ef65a19cb71535771faa"
   }
  }
 },
 "nbformat": 4,
 "nbformat_minor": 4
}
